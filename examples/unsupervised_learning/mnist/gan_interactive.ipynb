{
 "cells": [
  {
   "cell_type": "code",
   "execution_count": 45,
   "metadata": {},
   "outputs": [
    {
     "data": {
      "application/vnd.jupyter.widget-view+json": {
       "model_id": "b215026297c64eaf9cce6bb2064bdee4",
       "version_major": 2,
       "version_minor": 0
      },
      "text/plain": [
       "VBox(children=(HBox(children=(FloatSlider(value=0.0, max=1.0, min=-1.0, step=0.01), FloatSlider(value=0.0, max…"
      ]
     },
     "metadata": {},
     "output_type": "display_data"
    },
    {
     "data": {
      "application/vnd.jupyter.widget-view+json": {
       "model_id": "7f26846fce534786a51e8f1600cb8ff4",
       "version_major": 2,
       "version_minor": 0
      },
      "text/plain": [
       "Output()"
      ]
     },
     "metadata": {},
     "output_type": "display_data"
    }
   ],
   "source": [
    "import qualia2 \n",
    "from qualia2.core import *\n",
    "from qualia2.functions import sigmoid, tanh, concat, relu\n",
    "from qualia2.nn import Module, Linear\n",
    "from qualia2.autograd import Tensor\n",
    "import matplotlib.pyplot as plt\n",
    "import os\n",
    "import ipywidgets as widgets\n",
    "from IPython.display import display\n",
    "\n",
    "path = os.path.dirname(os.path.abspath('generator.ipynb'))\n",
    "\n",
    "def showfig(g, noise):\n",
    "    g.eval()\n",
    "    fake_img = g(noise)\n",
    "    img = fake_img.data[0].reshape(28,28)\n",
    "    plt.imshow(to_cpu(img) if gpu else img, cmap='gray', interpolation='nearest') \n",
    "    plt.grid(False)\n",
    "    plt.show()   \n",
    "\n",
    "class Generator(Module):\n",
    "    def __init__(self):\n",
    "        super().__init__()\n",
    "        self.linear1 = Linear(50, 128)\n",
    "        self.linear2 = Linear(128, 256)\n",
    "        self.linear3 = Linear(256, 512)\n",
    "        self.linear4 = Linear(512, 784)\n",
    "\n",
    "    def forward(self, x):\n",
    "        x = tanh(self.linear1(x))\n",
    "        x = tanh(self.linear2(x))\n",
    "        x = tanh(self.linear3(x))\n",
    "        x = relu(tanh(self.linear4(x)))\n",
    "        return x\n",
    "\n",
    "a0 = widgets.FloatSlider(min=-1, max=1, step=0.01)\n",
    "a1 = widgets.FloatSlider(min=-1, max=1, step=0.01)\n",
    "a2 = widgets.FloatSlider(min=-1, max=1, step=0.01)\n",
    "a3 = widgets.FloatSlider(min=-1, max=1, step=0.01)\n",
    "a4 = widgets.FloatSlider(min=-1, max=1, step=0.01)\n",
    "a5 = widgets.FloatSlider(min=-1, max=1, step=0.01)\n",
    "a6 = widgets.FloatSlider(min=-1, max=1, step=0.01)\n",
    "a7 = widgets.FloatSlider(min=-1, max=1, step=0.01)\n",
    "a8 = widgets.FloatSlider(min=-1, max=1, step=0.01)\n",
    "a9 = widgets.FloatSlider(min=-1, max=1, step=0.01)\n",
    "b0 = widgets.FloatSlider(min=-1, max=1, step=0.01)\n",
    "b1 = widgets.FloatSlider(min=-1, max=1, step=0.01)\n",
    "b2 = widgets.FloatSlider(min=-1, max=1, step=0.01)\n",
    "b3 = widgets.FloatSlider(min=-1, max=1, step=0.01)\n",
    "b4 = widgets.FloatSlider(min=-1, max=1, step=0.01)\n",
    "b5 = widgets.FloatSlider(min=-1, max=1, step=0.01)\n",
    "b6 = widgets.FloatSlider(min=-1, max=1, step=0.01)\n",
    "b7 = widgets.FloatSlider(min=-1, max=1, step=0.01)\n",
    "b8 = widgets.FloatSlider(min=-1, max=1, step=0.01)\n",
    "b9 = widgets.FloatSlider(min=-1, max=1, step=0.01)\n",
    "c0 = widgets.FloatSlider(min=-1, max=1, step=0.01)\n",
    "c1 = widgets.FloatSlider(min=-1, max=1, step=0.01)\n",
    "c2 = widgets.FloatSlider(min=-1, max=1, step=0.01)\n",
    "c3 = widgets.FloatSlider(min=-1, max=1, step=0.01)\n",
    "c4 = widgets.FloatSlider(min=-1, max=1, step=0.01)\n",
    "c5 = widgets.FloatSlider(min=-1, max=1, step=0.01)\n",
    "c6 = widgets.FloatSlider(min=-1, max=1, step=0.01)\n",
    "c7 = widgets.FloatSlider(min=-1, max=1, step=0.01)\n",
    "c8 = widgets.FloatSlider(min=-1, max=1, step=0.01)\n",
    "c9 = widgets.FloatSlider(min=-1, max=1, step=0.01)\n",
    "d0 = widgets.FloatSlider(min=-1, max=1, step=0.01)\n",
    "d1 = widgets.FloatSlider(min=-1, max=1, step=0.01)\n",
    "d2 = widgets.FloatSlider(min=-1, max=1, step=0.01)\n",
    "d3 = widgets.FloatSlider(min=-1, max=1, step=0.01)\n",
    "d4 = widgets.FloatSlider(min=-1, max=1, step=0.01)\n",
    "d5 = widgets.FloatSlider(min=-1, max=1, step=0.01)\n",
    "d6 = widgets.FloatSlider(min=-1, max=1, step=0.01)\n",
    "d7 = widgets.FloatSlider(min=-1, max=1, step=0.01)\n",
    "d8 = widgets.FloatSlider(min=-1, max=1, step=0.01)\n",
    "d9 = widgets.FloatSlider(min=-1, max=1, step=0.01)\n",
    "e0 = widgets.FloatSlider(min=-1, max=1, step=0.01)\n",
    "e1 = widgets.FloatSlider(min=-1, max=1, step=0.01)\n",
    "e2 = widgets.FloatSlider(min=-1, max=1, step=0.01)\n",
    "e3 = widgets.FloatSlider(min=-1, max=1, step=0.01)\n",
    "e4 = widgets.FloatSlider(min=-1, max=1, step=0.01)\n",
    "e5 = widgets.FloatSlider(min=-1, max=1, step=0.01)\n",
    "e6 = widgets.FloatSlider(min=-1, max=1, step=0.01)\n",
    "e7 = widgets.FloatSlider(min=-1, max=1, step=0.01)\n",
    "e8 = widgets.FloatSlider(min=-1, max=1, step=0.01)\n",
    "e9 = widgets.FloatSlider(min=-1, max=1, step=0.01)\n",
    "\n",
    "row0 = widgets.HBox([a0,a1,a2,a3,a4,a5,a6,a7,a8,a9])\n",
    "row1 = widgets.HBox([b0,b1,b2,b3,b4,b5,b6,b7,b8,b9])\n",
    "row2 = widgets.HBox([c0,c1,c2,c3,c4,c5,c6,c7,c8,c9])\n",
    "row3 = widgets.HBox([d0,d1,d2,d3,d4,d5,d6,d7,d8,d9])\n",
    "row4 = widgets.HBox([e0,e1,e2,e3,e4,e5,e6,e7,e8,e9])\n",
    "ui = widgets.VBox([row0,row1,row2,row3,row4])\n",
    "\n",
    "def generate(**kwargs):\n",
    "    check_noise = qualia2.array([i for _, i in kwargs.items()]).reshape(1,50)\n",
    "    g = Generator()\n",
    "    g.load(path+'/weights/gan_g')  \n",
    "    showfig(g, check_noise)\n",
    "\n",
    "out = widgets.interactive_output(generate, {'a0':a0,'a1':a1,'a2':a2,'a3':a3,'a4':a4,'a5':a5,'a6':a6,'a7':a7,'a8':a8,'a9':a9,\n",
    "                                     'b0':b0,'b1':b1,'b2':b2,'b3':b3,'b4':b4,'b5':b5,'b6':b6,'b7':b7,'b8':b8,'b9':b9,\n",
    "                                     'c0':c0,'c1':c1,'c2':c2,'c3':c3,'c4':c4,'c5':c5,'c6':c6,'c7':c7,'c8':c8,'c9':c9,\n",
    "                                     'd0':d0,'d1':d1,'d2':d2,'d3':d3,'d4':d4,'d5':d5,'d6':d6,'d7':d7,'d8':d8,'d9':d9,\n",
    "                                     'e0':e0,'e1':e1,'e2':e2,'e3':e3,'e4':e4,'e5':e5,'e6':e6,'e7':e7,'e8':e8,'e9':e9,})\n",
    "\n",
    "display(ui, out)\n"
   ]
  }
 ],
 "metadata": {
  "kernelspec": {
   "display_name": "Python 3",
   "language": "python",
   "name": "python3"
  },
  "language_info": {
   "codemirror_mode": {
    "name": "ipython",
    "version": 3
   },
   "file_extension": ".py",
   "mimetype": "text/x-python",
   "name": "python",
   "nbconvert_exporter": "python",
   "pygments_lexer": "ipython3",
   "version": "3.6.8"
  }
 },
 "nbformat": 4,
 "nbformat_minor": 2
}
