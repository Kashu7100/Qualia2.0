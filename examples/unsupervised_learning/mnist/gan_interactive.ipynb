{
 "cells": [
  {
   "cell_type": "code",
   "execution_count": 14,
   "metadata": {},
   "outputs": [
    {
     "data": {
      "application/vnd.jupyter.widget-view+json": {
       "model_id": "d3d187fbbd8144c4848e262f30187915",
       "version_major": 2,
       "version_minor": 0
      },
      "text/plain": [
       "VBox(children=(HBox(children=(FloatSlider(value=0.0, max=1.0, min=-1.0, step=0.01), FloatSlider(value=0.0, max…"
      ]
     },
     "metadata": {},
     "output_type": "display_data"
    },
    {
     "data": {
      "application/vnd.jupyter.widget-view+json": {
       "model_id": "1a1ab2595b654f6ca381581643f09a14",
       "version_major": 2,
       "version_minor": 0
      },
      "text/plain": [
       "Output()"
      ]
     },
     "metadata": {},
     "output_type": "display_data"
    }
   ],
   "source": [
    "import qualia2 \n",
    "from qualia2.core import *\n",
    "from qualia2.functions import sigmoid, tanh, concat, relu\n",
    "from qualia2.nn import Module, Linear\n",
    "from qualia2.autograd import Tensor\n",
    "import matplotlib.pyplot as plt\n",
    "import os\n",
    "import ipywidgets as widgets\n",
    "from IPython.display import display\n",
    "\n",
    "path = os.path.dirname(os.path.abspath('generator.ipynb'))\n",
    "\n",
    "def showfig(g, noise):\n",
    "    g.eval()\n",
    "    fake_img = g(noise)\n",
    "    img = fake_img.data[0].reshape(28,28)\n",
    "    plt.imshow(to_cpu(img) if gpu else img, cmap='gray', interpolation='nearest') \n",
    "    plt.grid(False)\n",
    "    plt.show()   \n",
    "\n",
    "class Generator(Module):\n",
    "    def __init__(self):\n",
    "        super().__init__()\n",
    "        self.linear1 = Linear(50, 128)\n",
    "        self.linear2 = Linear(128, 256)\n",
    "        self.linear3 = Linear(256, 512)\n",
    "        self.linear4 = Linear(512, 784)\n",
    "\n",
    "    def forward(self, x):\n",
    "        x = tanh(self.linear1(x))\n",
    "        x = tanh(self.linear2(x))\n",
    "        x = tanh(self.linear3(x))\n",
    "        x = relu(tanh(self.linear4(x)))\n",
    "        return x\n",
    "    \n",
    "slider = {str(i):widgets.FloatSlider(min=-1, max=1, step=0.01) for i in range(50)}\n",
    "\n",
    "row0 = widgets.HBox([slider[str(i)] for i in range(10)])\n",
    "row1 = widgets.HBox([slider[str(i+10)] for i in range(10)])\n",
    "row2 = widgets.HBox([slider[str(i+20)] for i in range(10)])\n",
    "row3 = widgets.HBox([slider[str(i+30)] for i in range(10)])\n",
    "row4 = widgets.HBox([slider[str(i+40)] for i in range(10)])\n",
    "ui = widgets.VBox([row0,row1,row2,row3,row4])\n",
    "\n",
    "def generate(**kwargs):\n",
    "    check_noise = qualia2.array([i for i in kwargs.values()]).reshape(1,50)\n",
    "    g = Generator()\n",
    "    g.load(path+'/gan/g')  \n",
    "    showfig(g, check_noise)\n",
    "\n",
    "out = widgets.interactive_output(generate, slider)   \n",
    "\n",
    "display(ui, out)\n"
   ]
  },
  {
   "cell_type": "code",
   "execution_count": null,
   "metadata": {},
   "outputs": [],
   "source": []
  }
 ],
 "metadata": {
  "kernelspec": {
   "display_name": "Python 3",
   "language": "python",
   "name": "python3"
  },
  "language_info": {
   "codemirror_mode": {
    "name": "ipython",
    "version": 3
   },
   "file_extension": ".py",
   "mimetype": "text/x-python",
   "name": "python",
   "nbconvert_exporter": "python",
   "pygments_lexer": "ipython3",
   "version": "3.6.8"
  }
 },
 "nbformat": 4,
 "nbformat_minor": 2
}
